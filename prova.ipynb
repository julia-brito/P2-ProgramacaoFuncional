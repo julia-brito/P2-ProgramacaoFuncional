{
 "cells": [
  {
   "cell_type": "code",
   "execution_count": 7,
   "metadata": {},
   "outputs": [
    {
     "name": "stdout",
     "output_type": "stream",
     "text": [
      "55\n"
     ]
    }
   ],
   "source": [
    "#1\n",
    "\n",
    "def fib (n, a = 0, b = 1):\n",
    "  if n == 0:\n",
    "    return a\n",
    "  else:\n",
    "    return fib (n - 1, b, a + b)\n",
    "print (fib (10))\n"
   ]
  },
  {
   "cell_type": "code",
   "execution_count": 5,
   "metadata": {},
   "outputs": [
    {
     "name": "stdout",
     "output_type": "stream",
     "text": [
      "55\n"
     ]
    }
   ],
   "source": [
    "#2\n",
    "def soma_nat(n):\n",
    "    if n ==1:\n",
    "        return 1\n",
    "    else:\n",
    "        return n + soma_nat(n-1)\n",
    "\n",
    "print(soma_nat(10))"
   ]
  },
  {
   "cell_type": "code",
   "execution_count": 8,
   "metadata": {},
   "outputs": [
    {
     "name": "stdout",
     "output_type": "stream",
     "text": [
      "[1, 4, 9, 16, 25]\n"
     ]
    }
   ],
   "source": [
    "#3\n",
    "def quadrados(n):\n",
    "    if n == 1:\n",
    "        return n\n",
    "    else:\n",
    "        return n ** 2 \n",
    "quadrados(5)\n",
    "print(list(map(lambda p : quadrados(p), range(1,6))))"
   ]
  },
  {
   "cell_type": "code",
   "execution_count": 12,
   "metadata": {},
   "outputs": [
    {
     "name": "stdout",
     "output_type": "stream",
     "text": [
      "[25, 16, 9, 4, 1]\n"
     ]
    }
   ],
   "source": [
    "#4\n",
    "def quadrados(n):\n",
    "        return n ** 2 \n",
    "\n",
    "def quadrados_inv(n):\n",
    "    return list(reversed(list(map(lambda p : quadrados(p), range(1,n + 1)))))\n",
    "\n",
    "\n",
    "print(quadrados_inv(5))"
   ]
  },
  {
   "cell_type": "code",
   "execution_count": 1,
   "metadata": {},
   "outputs": [
    {
     "name": "stdout",
     "output_type": "stream",
     "text": [
      "[4, 7, 2]\n"
     ]
    }
   ],
   "source": [
    "#5\n",
    "def indices_pares(w):\n",
    "    return list(filter(lambda p : w.index(p) % 2 == 0, w))\n",
    "    \n",
    "print(indices_pares([4,3,7,1,2,9]))"
   ]
  },
  {
   "cell_type": "code",
   "execution_count": 13,
   "metadata": {},
   "outputs": [
    {
     "name": "stdout",
     "output_type": "stream",
     "text": [
      "[{'nome': 'Arthur', 'idade': 26}, {'nome': 'André', 'idade': 22}, {'nome': 'Tiago', 'idade': 19}]\n",
      "67\n"
     ]
    }
   ],
   "source": [
    "#6\n",
    "from functools import reduce\n",
    "\n",
    "pessoas = [{'nome': 'Pedro', 'idade': 11},\n",
    "   {'nome': 'Mariana', 'idade': 18},\n",
    "   {'nome': 'Arthur', 'idade': 26},\n",
    "   {'nome': 'Rebeca', 'idade': 6},\n",
    "   {'nome': 'Raquel', 'idade': 34},\n",
    "   {'nome': 'André', 'idade':22},\n",
    "   {'nome': 'Tiago', 'idade': 19},\n",
    "   {'nome': 'Gabriela', 'idade': 127}]\n",
    "\n",
    "\n",
    "maiores = filter(lambda p: p['idade'] > 18 and p['idade'] < 30 , pessoas)\n",
    "maiores = list(maiores)\n",
    "\n",
    "print(maiores)\n",
    "\n",
    "\n",
    "soma_idades = reduce(lambda idade, pessoa: idade + pessoa['idade'], maiores, 0)\n",
    "print(soma_idades)"
   ]
  }
 ],
 "metadata": {
  "kernelspec": {
   "display_name": "Python 3.10.5 64-bit",
   "language": "python",
   "name": "python3"
  },
  "language_info": {
   "codemirror_mode": {
    "name": "ipython",
    "version": 3
   },
   "file_extension": ".py",
   "mimetype": "text/x-python",
   "name": "python",
   "nbconvert_exporter": "python",
   "pygments_lexer": "ipython3",
   "version": "3.10.5"
  },
  "orig_nbformat": 4,
  "vscode": {
   "interpreter": {
    "hash": "dde434ea5b67b1cdaff4edb2f331e17c7f103a32c3b12f68951a4d082b159262"
   }
  }
 },
 "nbformat": 4,
 "nbformat_minor": 2
}
